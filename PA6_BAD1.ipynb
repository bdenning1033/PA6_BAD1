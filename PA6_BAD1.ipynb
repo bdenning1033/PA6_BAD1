{
 "cells": [
  {
   "cell_type": "markdown",
   "id": "e0a0f5b7",
   "metadata": {},
   "source": [
    "### Brandy Denning\n",
    "CS 150\n",
    "PA6"
   ]
  },
  {
   "cell_type": "markdown",
   "id": "bde224cd",
   "metadata": {},
   "source": [
    "### Task 1 Area and Perimeter of a Triangle"
   ]
  },
  {
   "cell_type": "code",
   "execution_count": 1,
   "id": "d8687cc4",
   "metadata": {},
   "outputs": [
    {
     "name": "stdout",
     "output_type": "stream",
     "text": [
      "Enter the length of side a: 12\n",
      "Enter the length of side b: 30\n",
      "Enter the length of side c: 24\n",
      "The area of the triangle is  136.78815738213598 square units.\n",
      "The perimeter of the triangle is 66 linear units.\n"
     ]
    }
   ],
   "source": [
    "import math\n",
    "def calcArea(a,b,c):\n",
    "    s=(a+b+c)/2\n",
    "    area= math.sqrt(s*(s-a)*(s-b)*(s-c))\n",
    "    return area\n",
    "\n",
    "def calcPerimeter(a,b,c):\n",
    "    return a+b+c\n",
    "\n",
    "a=int(input('Enter the length of side a: '))\n",
    "b=int(input('Enter the length of side b: '))\n",
    "c=int(input('Enter the length of side c: '))\n",
    "\n",
    "area=calcArea(a,b,c)\n",
    "print('The area of the triangle is ', area, 'square units.')\n",
    "\n",
    "perimeter=calcPerimeter(a,b,c)\n",
    "print('The perimeter of the triangle is', perimeter, 'linear units.')"
   ]
  },
  {
   "cell_type": "markdown",
   "id": "b37c676d",
   "metadata": {},
   "source": [
    "### Task 2 \"Guess the Number\""
   ]
  },
  {
   "cell_type": "code",
   "execution_count": null,
   "id": "3e7b8a48",
   "metadata": {},
   "outputs": [
    {
     "name": "stdout",
     "output_type": "stream",
     "text": [
      "Guess a number between 1 and 1000: 200\n",
      "Too low!\n",
      "Guess a number between 1 and 1000: 999\n",
      "Too high!\n",
      "Guess a number between 1 and 1000: 1\n",
      "Too low!\n",
      "Guess a number between 1 and 1000: 1000\n",
      "Too high!\n",
      "Guess a number between 1 and 1000: 567\n",
      "Too high!\n",
      "Guess a number between 1 and 1000: 99\n",
      "Too low!\n",
      "Guess a number between 1 and 1000: 777\n",
      "Too high!\n",
      "Guess a number between 1 and 1000: 987\n",
      "Too high!\n",
      "Guess a number between 1 and 1000: 189\n",
      "Too low!\n",
      "Guess a number between 1 and 1000: 2\n",
      "Too low!\n",
      "Guess a number between 1 and 1000: 636\n",
      "Too high!\n"
     ]
    }
   ],
   "source": [
    "import random\n",
    "random_number= random.randint(1,1000)\n",
    "entered_number= None\n",
    "\n",
    "time=0\n",
    "\n",
    "while entered_number != random_number:\n",
    "    entered_number= int(input('Guess a number between 1 and 1000: '))\n",
    "    if entered_number==random_number:\n",
    "        print(f'You guessed the correct number!')\n",
    "    elif entered_number>random_number:\n",
    "        print('Too high!')\n",
    "    elif entered_number<random_number:\n",
    "        print('Too low!')\n",
    "    else:\n",
    "        print('Try again')"
   ]
  },
  {
   "cell_type": "markdown",
   "id": "d2dc746c",
   "metadata": {},
   "source": [
    "### Task 3 Mean Temperature"
   ]
  },
  {
   "cell_type": "code",
   "execution_count": 2,
   "id": "40f687a2",
   "metadata": {},
   "outputs": [
    {
     "name": "stdout",
     "output_type": "stream",
     "text": [
      "The mean temperature for the past 2 days is 78.5\n",
      "The mean temperature for the past 4 days is 77.5\n",
      "The mean temperature for the past 7 days is 78.14285714285714\n"
     ]
    }
   ],
   "source": [
    "def meanTemp(*args):\n",
    "    return sum(args)/len(args)\n",
    "meanTemp(80,77,76,77,78,80,79,81)\n",
    "print(\"The mean temperature for the past 2 days is\", meanTemp(80,77))\n",
    "print(\"The mean temperature for the past 4 days is\", meanTemp(80,77,76,77))\n",
    "print(\"The mean temperature for the past 7 days is\", meanTemp(80,77,76,77,78,80,79))"
   ]
  }
 ],
 "metadata": {
  "kernelspec": {
   "display_name": "Python 3 (ipykernel)",
   "language": "python",
   "name": "python3"
  },
  "language_info": {
   "codemirror_mode": {
    "name": "ipython",
    "version": 3
   },
   "file_extension": ".py",
   "mimetype": "text/x-python",
   "name": "python",
   "nbconvert_exporter": "python",
   "pygments_lexer": "ipython3",
   "version": "3.11.5"
  }
 },
 "nbformat": 4,
 "nbformat_minor": 5
}
